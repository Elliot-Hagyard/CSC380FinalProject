{
 "cells": [
  {
   "cell_type": "code",
   "execution_count": 9,
   "metadata": {},
   "outputs": [
    {
     "name": "stderr",
     "output_type": "stream",
     "text": [
      "[nltk_data] Downloading package wordnet to\n",
      "[nltk_data]     /Users/elliothagyard/nltk_data...\n",
      "[nltk_data]   Package wordnet is already up-to-date!\n"
     ]
    },
    {
     "data": {
      "text/html": [
       "<div>\n",
       "<style scoped>\n",
       "    .dataframe tbody tr th:only-of-type {\n",
       "        vertical-align: middle;\n",
       "    }\n",
       "\n",
       "    .dataframe tbody tr th {\n",
       "        vertical-align: top;\n",
       "    }\n",
       "\n",
       "    .dataframe thead th {\n",
       "        text-align: right;\n",
       "    }\n",
       "</style>\n",
       "<table border=\"1\" class=\"dataframe\">\n",
       "  <thead>\n",
       "    <tr style=\"text-align: right;\">\n",
       "      <th></th>\n",
       "      <th>rewire_id</th>\n",
       "      <th>text</th>\n",
       "      <th>label</th>\n",
       "      <th>split</th>\n",
       "    </tr>\n",
       "  </thead>\n",
       "  <tbody>\n",
       "    <tr>\n",
       "      <th>0</th>\n",
       "      <td>sexism2022_english-9609</td>\n",
       "      <td>In Nigeria, if you rape a woman, the men rape ...</td>\n",
       "      <td>0</td>\n",
       "      <td>train</td>\n",
       "    </tr>\n",
       "    <tr>\n",
       "      <th>1</th>\n",
       "      <td>sexism2022_english-16993</td>\n",
       "      <td>Then, she's a keeper. 😉</td>\n",
       "      <td>0</td>\n",
       "      <td>train</td>\n",
       "    </tr>\n",
       "    <tr>\n",
       "      <th>2</th>\n",
       "      <td>sexism2022_english-13149</td>\n",
       "      <td>This is like the Metallica video where the poo...</td>\n",
       "      <td>0</td>\n",
       "      <td>train</td>\n",
       "    </tr>\n",
       "    <tr>\n",
       "      <th>3</th>\n",
       "      <td>sexism2022_english-13021</td>\n",
       "      <td>woman?</td>\n",
       "      <td>0</td>\n",
       "      <td>train</td>\n",
       "    </tr>\n",
       "    <tr>\n",
       "      <th>4</th>\n",
       "      <td>sexism2022_english-966</td>\n",
       "      <td>I bet she wished she had a gun</td>\n",
       "      <td>0</td>\n",
       "      <td>train</td>\n",
       "    </tr>\n",
       "  </tbody>\n",
       "</table>\n",
       "</div>"
      ],
      "text/plain": [
       "                  rewire_id  \\\n",
       "0   sexism2022_english-9609   \n",
       "1  sexism2022_english-16993   \n",
       "2  sexism2022_english-13149   \n",
       "3  sexism2022_english-13021   \n",
       "4    sexism2022_english-966   \n",
       "\n",
       "                                                text  label  split  \n",
       "0  In Nigeria, if you rape a woman, the men rape ...      0  train  \n",
       "1                            Then, she's a keeper. 😉      0  train  \n",
       "2  This is like the Metallica video where the poo...      0  train  \n",
       "3                                             woman?      0  train  \n",
       "4                     I bet she wished she had a gun      0  train  "
      ]
     },
     "execution_count": 9,
     "metadata": {},
     "output_type": "execute_result"
    }
   ],
   "source": [
    "import pandas as pd\n",
    "import re\n",
    "import nltk\n",
    "import string\n",
    "from sklearn.feature_extraction.text import CountVectorizer\n",
    "from sklearn import preprocessing\n",
    "\n",
    "nltk.download(\"wordnet\")\n",
    "from nltk.stem import WordNetLemmatizer\n",
    "comments_df = pd.read_csv('edos_labelled_data.csv') \n",
    "le = preprocessing.LabelEncoder()\n",
    "comments_df[\"label\"] = le.fit_transform(comments_df[\"label\"])\n",
    "comments_df.head()\n",
    "\n"
   ]
  },
  {
   "cell_type": "code",
   "execution_count": 10,
   "metadata": {},
   "outputs": [
    {
     "data": {
      "text/plain": [
       "5271    Supporting toxic men and glorifying toxic male...\n",
       "5272    Find a girl with common beliefs. I have. They ...\n",
       "5273    not to mention that she's an outright commie w...\n",
       "5274    Only if you make it clear you're not looking f...\n",
       "5278                      Yea. Most trans women hate men.\n",
       "Name: text, dtype: object"
      ]
     },
     "execution_count": 10,
     "metadata": {},
     "output_type": "execute_result"
    }
   ],
   "source": [
    "comments_train_df = comments_df[comments_df[\"split\"] == \"train\"]\n",
    "comments_test_df = comments_df[comments_df[\"split\"] == \"test\"]\n",
    "X_train = comments_train_df[\"text\"]\n",
    "Y_train = comments_train_df[\"label\"]\n",
    "X_test = comments_test_df[\"text\"]\n",
    "Y_test = comments_test_df[\"label\"]\n",
    "X_train.tail()"
   ]
  },
  {
   "cell_type": "code",
   "execution_count": 11,
   "metadata": {},
   "outputs": [],
   "source": [
    "def clean(comments: list[str]) -> list[str]:\n",
    "    wln = WordNetLemmatizer()\n",
    "    # remove unicode\n",
    "    # remove punct\n",
    "    comments_clean = [comment.encode(\"ascii\", \"ignore\").decode() for comment in comments]\n",
    "    comments_clean = list(map(lambda x : x.lower(), comments_clean))\n",
    "    comments_clean = [re.sub(r'(#\\w+|\\[user\\]|\\[url\\])', '', comment) for comment in comments_clean]\n",
    "    translator = str.maketrans('', '', string.punctuation)\n",
    "    comments_clean = [comment.translate(translator) for comment in comments_clean]\n",
    "    #comments_clean = [[wln.lemmatize(word.strip()) for word in comment.split()] for comment in comments_clean]\n",
    "\n",
    "    return comments_clean"
   ]
  },
  {
   "cell_type": "code",
   "execution_count": 12,
   "metadata": {},
   "outputs": [],
   "source": [
    "def toWordFreqDF(x, y):\n",
    "    clean_x = clean(x)\n",
    "    vectorizer = CountVectorizer()\n",
    "    vec = vectorizer.fit_transform(clean_x)\n",
    "    frequency_df = pd.DataFrame(vec.toarray(), columns=vectorizer.get_feature_names_out())\n",
    "    frequency_df['_label'] = y.tolist()\n",
    "    frequency_df['_label'].tail()\n",
    "    return frequency_df\n",
    "train_freq = toWordFreqDF(X_train, Y_train)\n",
    "test_freq = toWordFreqDF(X_test, Y_test)\n"
   ]
  },
  {
   "cell_type": "code",
   "execution_count": 13,
   "metadata": {},
   "outputs": [
    {
     "name": "stdout",
     "output_type": "stream",
     "text": [
      "\n",
      "149\n"
     ]
    }
   ],
   "source": [
    "sexist_comment_percent = len(Y_train.loc[Y_train== 1]) / len(Y_train) \n",
    "common_freq = train_freq.sum().loc[train_freq.sum() >= 5]\n",
    "sexist = train_freq[train_freq[\"_label\"] == 1].sum().loc[train_freq.sum() >= 5]\n",
    "ratio  = sexist/common_freq.sort_values()\n",
    "bad_words = ratio.loc[ratio > 1 - sexist_comment_percent + .05].index\n",
    "\n",
    "def test_word(sentence : str):\n",
    "    sexist = 0\n",
    "    for word in sentence.split():\n",
    "        if word in bad_words:\n",
    "            sexist = 1\n",
    "            \n",
    "    return sexist\n",
    "\n",
    "predict = []\n",
    "print()\n",
    "for comment in clean(X_test):\n",
    "    predict.append(test_word(comment))\n",
    "print(sum(predict))\n"
   ]
  },
  {
   "cell_type": "code",
   "execution_count": 14,
   "metadata": {},
   "outputs": [
    {
     "name": "stdout",
     "output_type": "stream",
     "text": [
      "Index(['17', '18', '21', '30', '40', '50', '90', 'abortion', 'above',\n",
      "       'abusive',\n",
      "       ...\n",
      "       'women', 'womens', 'work', 'worse', 'worst', 'yelling', 'yet', 'youd',\n",
      "       'youtube', 'youve'],\n",
      "      dtype='object', length=446)\n",
      "239\n"
     ]
    }
   ],
   "source": [
    "mid_words = ratio.loc[\n",
    "    (1 - sexist_comment_percent + .05 > ratio) \n",
    "    & (ratio > sexist_comment_percent + .1)\n",
    "].index\n",
    "print(mid_words)\n",
    "good_words = ratio.loc[sexist_comment_percent - .05 > ratio].index\n",
    "\n",
    "def test_word2(sentence : str, badVal, midVal, cutoff):\n",
    "    sexist = 0\n",
    "    for word in sentence.split():\n",
    "        if word in bad_words:\n",
    "            sexist += 1\n",
    "        elif word in mid_words:\n",
    "            sexist += .2\n",
    "    sexist = 1 if sexist >= 1 else 0\n",
    "    return sexist\n",
    "\n",
    "predict2 = []\n",
    "for comment in clean(X_test):\n",
    "    predict2.append(test_word2(comment, 1, 0.2, 1))\n",
    "print(sum(predict2))"
   ]
  },
  {
   "cell_type": "code",
   "execution_count": 15,
   "metadata": {},
   "outputs": [
    {
     "name": "stdout",
     "output_type": "stream",
     "text": [
      "              precision    recall  f1-score   support\n",
      "\n",
      "           0       0.73      1.00      0.84       789\n",
      "           1       0.00      0.00      0.00       297\n",
      "\n",
      "    accuracy                           0.73      1086\n",
      "   macro avg       0.36      0.50      0.42      1086\n",
      "weighted avg       0.53      0.73      0.61      1086\n",
      "\n",
      "              precision    recall  f1-score   support\n",
      "\n",
      "           0       0.73      0.81      0.77       789\n",
      "           1       0.29      0.21      0.24       297\n",
      "\n",
      "    accuracy                           0.64      1086\n",
      "   macro avg       0.51      0.51      0.50      1086\n",
      "weighted avg       0.61      0.64      0.62      1086\n",
      "\n",
      "              precision    recall  f1-score   support\n",
      "\n",
      "           0       0.81      0.96      0.88       789\n",
      "           1       0.80      0.40      0.53       297\n",
      "\n",
      "    accuracy                           0.81      1086\n",
      "   macro avg       0.80      0.68      0.71      1086\n",
      "weighted avg       0.81      0.81      0.78      1086\n",
      "\n",
      "              precision    recall  f1-score   support\n",
      "\n",
      "           0       0.84      0.90      0.87       789\n",
      "           1       0.67      0.54      0.60       297\n",
      "\n",
      "    accuracy                           0.80      1086\n",
      "   macro avg       0.75      0.72      0.73      1086\n",
      "weighted avg       0.79      0.80      0.79      1086\n",
      "\n"
     ]
    },
    {
     "name": "stderr",
     "output_type": "stream",
     "text": [
      "/Users/elliothagyard/opt/anaconda3/envs/CSC_380/lib/python3.11/site-packages/sklearn/metrics/_classification.py:1344: UndefinedMetricWarning: Precision and F-score are ill-defined and being set to 0.0 in labels with no predicted samples. Use `zero_division` parameter to control this behavior.\n",
      "  _warn_prf(average, modifier, msg_start, len(result))\n",
      "/Users/elliothagyard/opt/anaconda3/envs/CSC_380/lib/python3.11/site-packages/sklearn/metrics/_classification.py:1344: UndefinedMetricWarning: Precision and F-score are ill-defined and being set to 0.0 in labels with no predicted samples. Use `zero_division` parameter to control this behavior.\n",
      "  _warn_prf(average, modifier, msg_start, len(result))\n",
      "/Users/elliothagyard/opt/anaconda3/envs/CSC_380/lib/python3.11/site-packages/sklearn/metrics/_classification.py:1344: UndefinedMetricWarning: Precision and F-score are ill-defined and being set to 0.0 in labels with no predicted samples. Use `zero_division` parameter to control this behavior.\n",
      "  _warn_prf(average, modifier, msg_start, len(result))\n"
     ]
    }
   ],
   "source": [
    "from sklearn.metrics import classification_report\n",
    "def eval_predictions(pred):\n",
    "    print(classification_report(Y_test, pred))\n",
    "\n",
    "import random\n",
    "baseline = [0 for i in predict]\n",
    "baseline2 = [int(random.uniform(0, 1) > .8) for i in predict]\n",
    "\n",
    "eval_predictions(baseline)\n",
    "eval_predictions(baseline2)\n",
    "eval_predictions(predict)\n",
    "eval_predictions(predict2)"
   ]
  }
 ],
 "metadata": {
  "kernelspec": {
   "display_name": "Python 3 (ipykernel)",
   "language": "python",
   "name": "python3"
  },
  "language_info": {
   "codemirror_mode": {
    "name": "ipython",
    "version": 3
   },
   "file_extension": ".py",
   "mimetype": "text/x-python",
   "name": "python",
   "nbconvert_exporter": "python",
   "pygments_lexer": "ipython3",
   "version": "3.11.5"
  }
 },
 "nbformat": 4,
 "nbformat_minor": 2
}
